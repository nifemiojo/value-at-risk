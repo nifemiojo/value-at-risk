{
 "cells": [
  {
   "cell_type": "code",
   "execution_count": 4,
   "metadata": {},
   "outputs": [],
   "source": [
    "import yfinance as yf\n",
    "import numpy as np\n",
    "import pandas as pd"
   ]
  },
  {
   "cell_type": "code",
   "execution_count": 5,
   "metadata": {},
   "outputs": [
    {
     "name": "stderr",
     "output_type": "stream",
     "text": [
      "[*********************100%***********************]  3 of 3 completed\n"
     ]
    }
   ],
   "source": [
    "tickers = [\"AAPL\", \"GOOGL\", \"TSLA\"]\n",
    "start_date = \"2023-02-07\"\n",
    "end_date = \"2024-02-07\"\n",
    "\n",
    "data = yf.download(tickers, start=start_date, end=end_date)"
   ]
  },
  {
   "cell_type": "code",
   "execution_count": 6,
   "metadata": {},
   "outputs": [
    {
     "data": {
      "text/html": [
       "<div>\n",
       "<style scoped>\n",
       "    .dataframe tbody tr th:only-of-type {\n",
       "        vertical-align: middle;\n",
       "    }\n",
       "\n",
       "    .dataframe tbody tr th {\n",
       "        vertical-align: top;\n",
       "    }\n",
       "\n",
       "    .dataframe thead th {\n",
       "        text-align: right;\n",
       "    }\n",
       "</style>\n",
       "<table border=\"1\" class=\"dataframe\">\n",
       "  <thead>\n",
       "    <tr style=\"text-align: right;\">\n",
       "      <th>Ticker</th>\n",
       "      <th>AAPL</th>\n",
       "      <th>GOOGL</th>\n",
       "      <th>TSLA</th>\n",
       "    </tr>\n",
       "    <tr>\n",
       "      <th>Date</th>\n",
       "      <th></th>\n",
       "      <th></th>\n",
       "      <th></th>\n",
       "    </tr>\n",
       "  </thead>\n",
       "  <tbody>\n",
       "    <tr>\n",
       "      <th>2024-01-31</th>\n",
       "      <td>183.501022</td>\n",
       "      <td>139.593964</td>\n",
       "      <td>187.289993</td>\n",
       "    </tr>\n",
       "    <tr>\n",
       "      <th>2024-02-01</th>\n",
       "      <td>185.949036</td>\n",
       "      <td>140.650146</td>\n",
       "      <td>188.860001</td>\n",
       "    </tr>\n",
       "    <tr>\n",
       "      <th>2024-02-02</th>\n",
       "      <td>184.943954</td>\n",
       "      <td>141.865738</td>\n",
       "      <td>187.910004</td>\n",
       "    </tr>\n",
       "    <tr>\n",
       "      <th>2024-02-05</th>\n",
       "      <td>186.765015</td>\n",
       "      <td>143.161026</td>\n",
       "      <td>181.059998</td>\n",
       "    </tr>\n",
       "    <tr>\n",
       "      <th>2024-02-06</th>\n",
       "      <td>188.377136</td>\n",
       "      <td>143.579514</td>\n",
       "      <td>185.100006</td>\n",
       "    </tr>\n",
       "  </tbody>\n",
       "</table>\n",
       "</div>"
      ],
      "text/plain": [
       "Ticker            AAPL       GOOGL        TSLA\n",
       "Date                                          \n",
       "2024-01-31  183.501022  139.593964  187.289993\n",
       "2024-02-01  185.949036  140.650146  188.860001\n",
       "2024-02-02  184.943954  141.865738  187.910004\n",
       "2024-02-05  186.765015  143.161026  181.059998\n",
       "2024-02-06  188.377136  143.579514  185.100006"
      ]
     },
     "execution_count": 6,
     "metadata": {},
     "output_type": "execute_result"
    }
   ],
   "source": [
    "close_data = data[\"Close\"]\n",
    "close_data.tail()"
   ]
  },
  {
   "cell_type": "code",
   "execution_count": 7,
   "metadata": {},
   "outputs": [
    {
     "data": {
      "text/html": [
       "<div>\n",
       "<style scoped>\n",
       "    .dataframe tbody tr th:only-of-type {\n",
       "        vertical-align: middle;\n",
       "    }\n",
       "\n",
       "    .dataframe tbody tr th {\n",
       "        vertical-align: top;\n",
       "    }\n",
       "\n",
       "    .dataframe thead th {\n",
       "        text-align: right;\n",
       "    }\n",
       "</style>\n",
       "<table border=\"1\" class=\"dataframe\">\n",
       "  <thead>\n",
       "    <tr style=\"text-align: right;\">\n",
       "      <th>Ticker</th>\n",
       "      <th>AAPL</th>\n",
       "      <th>GOOGL</th>\n",
       "      <th>TSLA</th>\n",
       "    </tr>\n",
       "    <tr>\n",
       "      <th>Date</th>\n",
       "      <th></th>\n",
       "      <th></th>\n",
       "      <th></th>\n",
       "    </tr>\n",
       "  </thead>\n",
       "  <tbody>\n",
       "    <tr>\n",
       "      <th>2024-01-31</th>\n",
       "      <td>-0.019547</td>\n",
       "      <td>-0.077965</td>\n",
       "      <td>-0.022699</td>\n",
       "    </tr>\n",
       "    <tr>\n",
       "      <th>2024-02-01</th>\n",
       "      <td>0.013252</td>\n",
       "      <td>0.007538</td>\n",
       "      <td>0.008348</td>\n",
       "    </tr>\n",
       "    <tr>\n",
       "      <th>2024-02-02</th>\n",
       "      <td>-0.005420</td>\n",
       "      <td>0.008606</td>\n",
       "      <td>-0.005043</td>\n",
       "    </tr>\n",
       "    <tr>\n",
       "      <th>2024-02-05</th>\n",
       "      <td>0.009798</td>\n",
       "      <td>0.009089</td>\n",
       "      <td>-0.037135</td>\n",
       "    </tr>\n",
       "    <tr>\n",
       "      <th>2024-02-06</th>\n",
       "      <td>0.008595</td>\n",
       "      <td>0.002919</td>\n",
       "      <td>0.022068</td>\n",
       "    </tr>\n",
       "  </tbody>\n",
       "</table>\n",
       "</div>"
      ],
      "text/plain": [
       "Ticker          AAPL     GOOGL      TSLA\n",
       "Date                                    \n",
       "2024-01-31 -0.019547 -0.077965 -0.022699\n",
       "2024-02-01  0.013252  0.007538  0.008348\n",
       "2024-02-02 -0.005420  0.008606 -0.005043\n",
       "2024-02-05  0.009798  0.009089 -0.037135\n",
       "2024-02-06  0.008595  0.002919  0.022068"
      ]
     },
     "execution_count": 7,
     "metadata": {},
     "output_type": "execute_result"
    }
   ],
   "source": [
    "log_returns = np.log(close_data / close_data.shift(1))\n",
    "log_returns.tail()"
   ]
  },
  {
   "cell_type": "code",
   "execution_count": 8,
   "metadata": {},
   "outputs": [],
   "source": [
    "expected_daily_returns = log_returns.mean()\n",
    "daily_std_dev = log_returns.std()"
   ]
  },
  {
   "cell_type": "code",
   "execution_count": 9,
   "metadata": {},
   "outputs": [
    {
     "data": {
      "text/html": [
       "<div>\n",
       "<style scoped>\n",
       "    .dataframe tbody tr th:only-of-type {\n",
       "        vertical-align: middle;\n",
       "    }\n",
       "\n",
       "    .dataframe tbody tr th {\n",
       "        vertical-align: top;\n",
       "    }\n",
       "\n",
       "    .dataframe thead th {\n",
       "        text-align: right;\n",
       "    }\n",
       "</style>\n",
       "<table border=\"1\" class=\"dataframe\">\n",
       "  <thead>\n",
       "    <tr style=\"text-align: right;\">\n",
       "      <th></th>\n",
       "      <th>Ticker</th>\n",
       "      <th>Expected Daily Return</th>\n",
       "      <th>Daily Standard Deviation</th>\n",
       "    </tr>\n",
       "  </thead>\n",
       "  <tbody>\n",
       "    <tr>\n",
       "      <th>0</th>\n",
       "      <td>AAPL</td>\n",
       "      <td>0.000831</td>\n",
       "      <td>0.012344</td>\n",
       "    </tr>\n",
       "    <tr>\n",
       "      <th>1</th>\n",
       "      <td>GOOGL</td>\n",
       "      <td>0.001167</td>\n",
       "      <td>0.018351</td>\n",
       "    </tr>\n",
       "    <tr>\n",
       "      <th>2</th>\n",
       "      <td>TSLA</td>\n",
       "      <td>-0.000245</td>\n",
       "      <td>0.031385</td>\n",
       "    </tr>\n",
       "  </tbody>\n",
       "</table>\n",
       "</div>"
      ],
      "text/plain": [
       "  Ticker  Expected Daily Return  Daily Standard Deviation\n",
       "0   AAPL               0.000831                  0.012344\n",
       "1  GOOGL               0.001167                  0.018351\n",
       "2   TSLA              -0.000245                  0.031385"
      ]
     },
     "execution_count": 9,
     "metadata": {},
     "output_type": "execute_result"
    }
   ],
   "source": [
    "pd.DataFrame({\n",
    "    \"Ticker\": tickers,\n",
    "    \"Expected Daily Return\": expected_daily_returns.values,\n",
    "    \"Daily Standard Deviation\": daily_std_dev.values\n",
    "})"
   ]
  },
  {
   "cell_type": "markdown",
   "metadata": {},
   "source": [
    "### Portfolio Expected Return and Risk"
   ]
  },
  {
   "cell_type": "code",
   "execution_count": 10,
   "metadata": {},
   "outputs": [
    {
     "name": "stdout",
     "output_type": "stream",
     "text": [
      "Expected Portfolio Return (Daily): 0.07%\n"
     ]
    }
   ],
   "source": [
    "weights_column_matrix = pd.DataFrame([0.4, 0.35, 0.25], index=tickers, columns=[\"Weight\"])\n",
    "\n",
    "\n",
    "expected_portfolio_return = np.sum(weights_column_matrix[\"Weight\"] * expected_daily_returns)\n",
    "print(f\"Expected Portfolio Return (Daily): {expected_portfolio_return * 100:.2f}%\")"
   ]
  },
  {
   "cell_type": "code",
   "execution_count": 11,
   "metadata": {},
   "outputs": [
    {
     "name": "stdout",
     "output_type": "stream",
     "text": [
      "Portfolio Risk: 1.46%\n"
     ]
    }
   ],
   "source": [
    "portfolio_std_dev = np.sqrt(np.dot(weights_column_matrix.T, np.dot(log_returns.cov(), weights_column_matrix)))\n",
    "print(f\"Portfolio Risk: {portfolio_std_dev[0, 0] * 100:.2f}%\")"
   ]
  },
  {
   "cell_type": "markdown",
   "metadata": {},
   "source": [
    "### VaR Calculation"
   ]
  },
  {
   "cell_type": "code",
   "execution_count": 17,
   "metadata": {},
   "outputs": [
    {
     "name": "stdout",
     "output_type": "stream",
     "text": [
      "95% probability that the portfolio will not lose more than -2.34%\n",
      "99% probability that the portfolio will not lose more than -3.34%\n"
     ]
    }
   ],
   "source": [
    "from scipy.stats import norm\n",
    "\n",
    "confidence_95 = 0.95  # 95% confidence\n",
    "confidence_99 = 0.99  # 99% confidence\n",
    "\n",
    "z_95 = norm.ppf(1 - confidence_95)  # Left tail (5%)\n",
    "z_99 = norm.ppf(1 - confidence_99)  # Left tail (1%)\n",
    "\n",
    "var_95 = expected_portfolio_return + z_95 * portfolio_std_dev\n",
    "var_99 = expected_portfolio_return + z_99 * portfolio_std_dev\n",
    "\n",
    "# print(f\"95% VaR: {var_95[0, 0] * 100:.2f}%\")\n",
    "print(f\"95% probability that the portfolio will not lose more than {var_95[0, 0] * 100:.2f}%\")\n",
    "# print(f\"99% VaR: {var_99[0, 0] * 100:.2f}%\")\n",
    "print(f\"99% probability that the portfolio will not lose more than {var_99[0, 0] * 100:.2f}%\")"
   ]
  }
 ],
 "metadata": {
  "kernelspec": {
   "display_name": "calculating-var",
   "language": "python",
   "name": "python3"
  },
  "language_info": {
   "codemirror_mode": {
    "name": "ipython",
    "version": 3
   },
   "file_extension": ".py",
   "mimetype": "text/x-python",
   "name": "python",
   "nbconvert_exporter": "python",
   "pygments_lexer": "ipython3",
   "version": "3.10.16"
  }
 },
 "nbformat": 4,
 "nbformat_minor": 2
}
